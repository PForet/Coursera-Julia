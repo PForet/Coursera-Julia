{
 "cells": [
  {
   "cell_type": "markdown",
   "metadata": {},
   "source": [
    "# Hackerrank\n",
    "\n",
    "Julia code for solving various hackerrank problems. For reproduction purpose mostly.\n",
    "\n",
    "## Algorithms\n",
    "\n",
    "### Search\n",
    "\n",
    "#### Ice cream parlor\n",
    "\n",
    "Solved "
   ]
  },
  {
   "cell_type": "code",
   "execution_count": null,
   "metadata": {
    "collapsed": true
   },
   "outputs": [],
   "source": [
    "n_trips = parse(Int, readline())\n",
    "\n",
    "function read_trip()\n",
    "    budget = parse(Int, readline())\n",
    "    n = parse(Int, readline())\n",
    "    prices = [parse(Int,i) for i in split(readline())]\n",
    "    a,b = solve(budget, n, prices)\n",
    "    println(string(min(a,b))*\" \"*string(max(a,b)))\n",
    "end\n",
    "\n",
    "function solve(budget, n, prices)\n",
    "    for i in 1:n\n",
    "        for j in (i+1):n\n",
    "            if prices[i]+prices[j] == budget return (i,j) end\n",
    "        end\n",
    "    end\n",
    "end\n",
    "\n",
    "for i in 1:n_trips read_trip() end"
   ]
  },
  {
   "cell_type": "markdown",
   "metadata": {},
   "source": [
    "#### KnightL on a Chessboard\n",
    "\n",
    "Bruteforce approach. Work but timeout on hackerrank with first version\n",
    "EDIT : Not using eval.parse reduce time from 5.6 second to 0.1 ! Worked now"
   ]
  },
  {
   "cell_type": "code",
   "execution_count": 24,
   "metadata": {
    "scrolled": true
   },
   "outputs": [
    {
     "name": "stdout",
     "output_type": "stream",
     "text": [
      "6 4 4 8 2 12 \n",
      "4 3 4 2 16 3 \n",
      "4 4 2 4 4 4 \n",
      "8 2 4 -1 -1 -1 \n",
      "2 16 4 -1 -1 -1 \n",
      "12 3 4 -1 -1 1 \n",
      "  5.654091 seconds (1.04 M allocations: 55.351 MiB, 0.21% gc time)\n"
     ]
    }
   ],
   "source": [
    "function minimum_length(a,b,n)\n",
    "    accessible, counter, finished = Set([(0,0)]), 1, false \n",
    "    while !finished\n",
    "        new_accessible::Set{Tuple{Int32, Int32}} = Set()\n",
    "        for old_pos in accessible\n",
    "            for (f1,f2) in [(a,b),(b,a)]\n",
    "                for oper1 in [+,-] for oper2 in [+,-]\n",
    "                        newx::Int32 = eval(parse(\"$old_pos[1] $oper1 $f1\"))\n",
    "                        newy::Int32 = eval(parse(\"$old_pos[2] $oper2 $f2\"))\n",
    "                        if 0 ≤ newx < n && 0 ≤ newy < n \n",
    "                            new_accessible = ∪(new_accessible, Set([(newx,newy)]))\n",
    "                        end end\n",
    "                end\n",
    "            end\n",
    "        end\n",
    "        if accessible == ∪(new_accessible,accessible) finished = true end\n",
    "        accessible = ∪(new_accessible,accessible)\n",
    "        if (n-1,n-1) in accessible \n",
    "            return counter\n",
    "        end\n",
    "        counter +=1\n",
    "    end\n",
    "    return -1\n",
    "end\n",
    "\n",
    "function main(N)\n",
    "for i in 1:(N-1) \n",
    "    for j in 1:(N-1)\n",
    "        print(string(minimum_length(i,j,N))*\" \")\n",
    "    end\n",
    "    print(\"\\n\")\n",
    "end\n",
    "end\n",
    "\n",
    "@time main(7)"
   ]
  },
  {
   "cell_type": "code",
   "execution_count": 29,
   "metadata": {
    "scrolled": true
   },
   "outputs": [
    {
     "name": "stdout",
     "output_type": "stream",
     "text": [
      "6 4 4 8 2 12 \n",
      "4 3 4 2 16 3 \n",
      "4 4 2 4 4 4 \n",
      "8 2 4 -1 -1 -1 \n",
      "2 16 4 -1 -1 -1 \n",
      "12 3 4 -1 -1 1 \n",
      "  0.121124 seconds (117.65 k allocations: 10.278 MiB, 3.82% gc time)\n"
     ]
    }
   ],
   "source": [
    "add(x,y)=x+y\n",
    "sub(x,y)=x-y\n",
    "\n",
    "function minimum_length(a,b,n)\n",
    "    accessible, counter, finished = Set([(0,0)]), 1, false \n",
    "    while !finished\n",
    "        new_accessible::Set{Tuple{Int32, Int32}} = Set()\n",
    "        for old_pos in accessible\n",
    "            for (f1,f2) in [(a,b),(b,a)]\n",
    "                for oper1 in [add,sub] for oper2 in [add,sub]\n",
    "                        newx::Int32 = oper1(old_pos[1],f1)\n",
    "                        newy::Int32 = oper2(old_pos[2],f2)\n",
    "                        if 0 ≤ newx < n && 0 ≤ newy < n \n",
    "                            new_accessible = ∪(new_accessible, Set([(newx,newy)]))\n",
    "                        end end\n",
    "                end\n",
    "            end\n",
    "        end\n",
    "        if accessible == ∪(new_accessible,accessible) finished = true end\n",
    "        accessible = ∪(new_accessible,accessible)\n",
    "        if (n-1,n-1) in accessible \n",
    "            return counter\n",
    "        end\n",
    "        counter +=1\n",
    "    end\n",
    "    return -1\n",
    "end\n",
    "\n",
    "function main(N)\n",
    "for i in 1:(N-1) \n",
    "    for j in 1:(N-1)\n",
    "        print(string(minimum_length(i,j,N))*\" \")\n",
    "    end\n",
    "    print(\"\\n\")\n",
    "end\n",
    "end\n",
    "\n",
    "@time main(7)"
   ]
  }
 ],
 "metadata": {
  "kernelspec": {
   "display_name": "Julia 0.6.2",
   "language": "julia",
   "name": "julia-0.6"
  },
  "language_info": {
   "file_extension": ".jl",
   "mimetype": "application/julia",
   "name": "julia",
   "version": "0.6.2"
  }
 },
 "nbformat": 4,
 "nbformat_minor": 2
}
