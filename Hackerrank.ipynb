{
 "cells": [
  {
   "cell_type": "markdown",
   "metadata": {},
   "source": [
    "# Hackerrank\n",
    "\n",
    "Julia code for solving various hackerrank problems. For reproduction purpose mostly.\n",
    "\n",
    "## Algorithms\n",
    "\n",
    "### Search\n",
    "\n",
    "#### Ice cream parlor\n",
    "\n",
    "Solved "
   ]
  },
  {
   "cell_type": "code",
   "execution_count": null,
   "metadata": {
    "collapsed": true
   },
   "outputs": [],
   "source": [
    "n_trips = parse(Int, readline())\n",
    "\n",
    "function read_trip()\n",
    "    budget = parse(Int, readline())\n",
    "    n = parse(Int, readline())\n",
    "    prices = [parse(Int,i) for i in split(readline())]\n",
    "    a,b = solve(budget, n, prices)\n",
    "    println(string(min(a,b))*\" \"*string(max(a,b)))\n",
    "end\n",
    "\n",
    "function solve(budget, n, prices)\n",
    "    for i in 1:n\n",
    "        for j in (i+1):n\n",
    "            if prices[i]+prices[j] == budget return (i,j) end\n",
    "        end\n",
    "    end\n",
    "end\n",
    "\n",
    "for i in 1:n_trips read_trip() end"
   ]
  },
  {
   "cell_type": "markdown",
   "metadata": {},
   "source": [
    "#### KnightL on a Chessboard\n",
    "\n",
    "Bruteforce approach. Work but timeout on hackerrank with first version\n",
    "EDIT : Not using eval.parse reduce time from 5.6 second to 0.1 ! Worked now"
   ]
  },
  {
   "cell_type": "code",
   "execution_count": 36,
   "metadata": {
    "scrolled": true
   },
   "outputs": [
    {
     "data": {
      "text/plain": [
       "main (generic function with 1 method)"
      ]
     },
     "execution_count": 36,
     "metadata": {},
     "output_type": "execute_result"
    }
   ],
   "source": [
    "function minimum_length(a,b,n)\n",
    "    accessible, counter, finished = Set([(0,0)]), 1, false \n",
    "    while !finished\n",
    "        new_accessible::Set{Tuple{Int32, Int32}} = Set()\n",
    "        for old_pos in accessible\n",
    "            for (f1,f2) in [(a,b),(b,a)]\n",
    "                for oper1 in [+,-] for oper2 in [+,-]\n",
    "                        newx::Int32 = eval(parse(\"$old_pos[1] $oper1 $f1\"))\n",
    "                        newy::Int32 = eval(parse(\"$old_pos[2] $oper2 $f2\"))\n",
    "                        if 0 ≤ newx < n && 0 ≤ newy < n \n",
    "                            new_accessible = ∪(new_accessible, Set([(newx,newy)]))\n",
    "                        end end\n",
    "                end\n",
    "            end\n",
    "        end\n",
    "        if accessible == ∪(new_accessible,accessible) finished = true end\n",
    "        accessible = ∪(new_accessible,accessible)\n",
    "        if (n-1,n-1) in accessible \n",
    "            return counter\n",
    "        end\n",
    "        counter +=1\n",
    "    end\n",
    "    return -1\n",
    "end\n",
    "\n",
    "function main(N)\n",
    "for i in 1:(N-1) \n",
    "    for j in 1:(N-1)\n",
    "        print(string(minimum_length(i,j,N))*\" \")\n",
    "    end\n",
    "    print(\"\\n\")\n",
    "end\n",
    "end\n"
   ]
  },
  {
   "cell_type": "code",
   "execution_count": 74,
   "metadata": {
    "scrolled": false
   },
   "outputs": [
    {
     "name": "stdout",
     "output_type": "stream",
     "text": [
      "24 16 12 12 8 8 6 16 10 8 4 4 8 12 16 20 14 28 10 36 6 44 2 48 \n",
      "16 12 12 8 8 6 8 8 16 4 22 4 24 8 24 12 24 6 24 20 24 2 24 24 \n",
      "12 12 8 8 6 6 6 16 4 16 10 4 14 16 6 16 16 12 16 16 2 16 16 16 \n",
      "12 8 8 6 12 6 12 4 12 10 12 4 12 12 12 8 12 12 12 2 12 12 12 12 \n",
      "8 8 6 12 -1 8 4 16 6 -1 12 4 10 28 -1 20 8 24 2 -1 -1 -1 -1 -1 \n",
      "8 6 6 6 8 4 8 8 6 6 8 4 8 8 8 8 8 2 8 8 8 8 8 8 \n",
      "6 8 6 12 4 8 -1 16 10 20 10 4 12 -1 10 20 2 -1 16 -1 -1 -1 -1 -1 \n",
      "16 8 16 4 16 8 16 3 16 8 20 4 24 12 36 2 76 36 -1 16 -1 -1 -1 3 \n",
      "10 16 4 12 6 6 10 16 -1 12 6 4 14 32 2 -1 -1 -1 -1 -1 -1 -1 -1 -1 \n",
      "8 4 16 10 -1 6 20 8 12 -1 8 4 24 2 -1 -1 -1 -1 -1 -1 -1 -1 -1 -1 \n",
      "4 22 10 12 12 8 10 20 6 8 -1 4 2 -1 -1 -1 -1 -1 -1 -1 -1 -1 -1 -1 \n",
      "4 4 4 4 4 4 4 4 4 4 4 2 4 4 4 4 4 4 4 4 4 4 4 4 \n",
      "8 24 14 12 10 8 12 24 14 24 2 4 -1 -1 -1 -1 -1 -1 -1 -1 -1 -1 -1 -1 \n",
      "12 8 16 12 28 8 -1 12 32 2 -1 4 -1 -1 -1 -1 -1 -1 -1 -1 -1 -1 -1 -1 \n",
      "16 24 6 12 -1 8 10 36 2 -1 -1 4 -1 -1 -1 -1 -1 -1 -1 -1 -1 -1 -1 -1 \n",
      "20 12 16 8 20 8 20 2 -1 -1 -1 4 -1 -1 -1 -1 -1 -1 -1 -1 -1 -1 -1 -1 \n",
      "14 24 16 12 8 8 2 76 -1 -1 -1 4 -1 -1 -1 -1 -1 -1 -1 -1 -1 -1 -1 -1 \n",
      "28 6 12 12 24 2 -1 36 -1 -1 -1 4 -1 -1 -1 -1 -1 -1 -1 -1 -1 -1 -1 -1 \n",
      "10 24 16 12 2 8 16 -1 -1 -1 -1 4 -1 -1 -1 -1 -1 -1 -1 -1 -1 -1 -1 -1 \n",
      "36 20 16 2 -1 8 -1 16 -1 -1 -1 4 -1 -1 -1 -1 -1 -1 -1 -1 -1 -1 -1 -1 \n",
      "6 24 2 12 -1 8 -1 -1 -1 -1 -1 4 -1 -1 -1 -1 -1 -1 -1 -1 -1 -1 -1 -1 \n",
      "44 2 16 12 -1 8 -1 -1 -1 -1 -1 4 -1 -1 -1 -1 -1 -1 -1 -1 -1 -1 -1 -1 \n",
      "2 24 16 12 -1 8 -1 -1 -1 -1 -1 4 -1 -1 -1 -1 -1 -1 -1 -1 -1 -1 -1 -1 \n",
      "48 24 16 12 -1 8 -1 3 -1 -1 -1 4 -1 -1 -1 -1 -1 -1 -1 -1 -1 -1 -1 1 \n",
      " 19.872652 seconds (18.93 M allocations: 3.020 GiB, 4.04% gc time)\n"
     ]
    }
   ],
   "source": [
    "add(x,y)=x+y\n",
    "sub(x,y)=x-y\n",
    "\n",
    "function minimum_length(a::Int8,b::Int8,n)\n",
    "    accessible, counter, finished = Set([(0,0)]), 1, false \n",
    "    while !finished\n",
    "        new_accessible::Set{Tuple{Int8, Int8}} = Set()\n",
    "        for old_pos in accessible\n",
    "            for (f1,f2) in [(a,b),(b,a)]\n",
    "                for oper1 in [add,sub] for oper2 in [add,sub]\n",
    "                        newx::Int8 = oper1(old_pos[1],f1)\n",
    "                        newy::Int8 = oper2(old_pos[2],f2)\n",
    "                        if 0 ≤ newx < n && 0 ≤ newy < n \n",
    "                            new_accessible = ∪(new_accessible, Set([(newx,newy)]))\n",
    "                        end end\n",
    "                end\n",
    "            end\n",
    "        end\n",
    "        if (n-1,n-1) in new_accessible \n",
    "            return counter\n",
    "        end\n",
    "        new_accessible = ∪(new_accessible,accessible)\n",
    "        if accessible == new_accessible finished = true end\n",
    "        accessible = new_accessible\n",
    "        counter +=1\n",
    "    end\n",
    "    return -1\n",
    "end\n",
    "\n",
    "function main(N)\n",
    "result_matrix = Array{Int8}(N-1,N-1)\n",
    "for i in 1:(N-1) \n",
    "    for j in i:(N-1)\n",
    "        newres = minimum_length(i,j,N)\n",
    "        result_matrix[i,j] = newres\n",
    "        result_matrix[j,i] = newres\n",
    "    end\n",
    "end\n",
    "for i in 1:(N-1) \n",
    "    for j in 1:(N-1)\n",
    "        tmp = result_matrix[i,j]\n",
    "        print(\"$tmp \")\n",
    "    end\n",
    "    print(\"\\n\")\n",
    "end\n",
    "end\n",
    "\n",
    "@time main(25)\n"
   ]
  }
 ],
 "metadata": {
  "kernelspec": {
   "display_name": "Julia 0.6.2",
   "language": "julia",
   "name": "julia-0.6"
  },
  "language_info": {
   "file_extension": ".jl",
   "mimetype": "application/julia",
   "name": "julia",
   "version": "0.6.2"
  }
 },
 "nbformat": 4,
 "nbformat_minor": 2
}
